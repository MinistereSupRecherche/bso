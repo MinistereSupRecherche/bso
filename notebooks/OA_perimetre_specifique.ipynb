{
 "cells": [
  {
   "cell_type": "code",
   "execution_count": 1,
   "metadata": {},
   "outputs": [],
   "source": [
    "from scanr_utils import *\n",
    "from unpwaywall_utils import *"
   ]
  },
  {
   "cell_type": "markdown",
   "metadata": {},
   "source": [
    "# 1. Liste des DOI du périmètre"
   ]
  },
  {
   "cell_type": "markdown",
   "metadata": {},
   "source": [
    "## 1.1 Proposition de liste de DOIs à partir des APIs scanR\n",
    "seulement une proposition de DOI ! Liste non exhaustive !"
   ]
  },
  {
   "cell_type": "code",
   "execution_count": null,
   "metadata": {},
   "outputs": [],
   "source": [
    "df = get_publications_with_doi(\"197535016\") # prend en argument un siren ou un numéro RNSR\n",
    "df.head()"
   ]
  },
  {
   "cell_type": "markdown",
   "metadata": {},
   "source": [
    "## 1.2 ou lecture directe d'une liste de DOI déjà constituée"
   ]
  },
  {
   "cell_type": "code",
   "execution_count": 6,
   "metadata": {},
   "outputs": [
    {
     "data": {
      "text/html": [
       "<div>\n",
       "<style scoped>\n",
       "    .dataframe tbody tr th:only-of-type {\n",
       "        vertical-align: middle;\n",
       "    }\n",
       "\n",
       "    .dataframe tbody tr th {\n",
       "        vertical-align: top;\n",
       "    }\n",
       "\n",
       "    .dataframe thead th {\n",
       "        text-align: right;\n",
       "    }\n",
       "</style>\n",
       "<table border=\"1\" class=\"dataframe\">\n",
       "  <thead>\n",
       "    <tr style=\"text-align: right;\">\n",
       "      <th></th>\n",
       "      <th>doi</th>\n",
       "    </tr>\n",
       "  </thead>\n",
       "  <tbody>\n",
       "    <tr>\n",
       "      <th>0</th>\n",
       "      <td>10.1002/nag.1123</td>\n",
       "    </tr>\n",
       "    <tr>\n",
       "      <th>1</th>\n",
       "      <td>10.1016/j.icarus.2019.07.011</td>\n",
       "    </tr>\n",
       "    <tr>\n",
       "      <th>2</th>\n",
       "      <td>10.1080/14693062.2012.699787</td>\n",
       "    </tr>\n",
       "  </tbody>\n",
       "</table>\n",
       "</div>"
      ],
      "text/plain": [
       "                            doi\n",
       "0              10.1002/nag.1123\n",
       "1  10.1016/j.icarus.2019.07.011\n",
       "2  10.1080/14693062.2012.699787"
      ]
     },
     "execution_count": 6,
     "metadata": {},
     "output_type": "execute_result"
    }
   ],
   "source": [
    "#df = pd.read_excel(\"...\")\n",
    "df = pd.DataFrame({\"doi\": [\"10.1002/nag.1123\", \"10.1016/j.icarus.2019.07.011\", \"10.1080/14693062.2012.699787\"]})\n",
    "df"
   ]
  },
  {
   "cell_type": "markdown",
   "metadata": {},
   "source": [
    "# 2. Enrichissement avec l'API Unpaywall"
   ]
  },
  {
   "cell_type": "code",
   "execution_count": 7,
   "metadata": {},
   "outputs": [
    {
     "name": "stdout",
     "output_type": "stream",
     "text": [
      "3 publications\n",
      "0 %, "
     ]
    },
    {
     "data": {
      "text/html": [
       "<div>\n",
       "<style scoped>\n",
       "    .dataframe tbody tr th:only-of-type {\n",
       "        vertical-align: middle;\n",
       "    }\n",
       "\n",
       "    .dataframe tbody tr th {\n",
       "        vertical-align: top;\n",
       "    }\n",
       "\n",
       "    .dataframe thead th {\n",
       "        text-align: right;\n",
       "    }\n",
       "</style>\n",
       "<table border=\"1\" class=\"dataframe\">\n",
       "  <thead>\n",
       "    <tr style=\"text-align: right;\">\n",
       "      <th></th>\n",
       "      <th>doi</th>\n",
       "      <th>oa_type</th>\n",
       "      <th>is_oa</th>\n",
       "      <th>title</th>\n",
       "      <th>published_date</th>\n",
       "      <th>published_year</th>\n",
       "      <th>genre</th>\n",
       "      <th>journal_is_in_doaj</th>\n",
       "      <th>journal_issns</th>\n",
       "      <th>journal_name</th>\n",
       "      <th>publisher</th>\n",
       "    </tr>\n",
       "  </thead>\n",
       "  <tbody>\n",
       "    <tr>\n",
       "      <th>0</th>\n",
       "      <td>10.1002/nag.1123</td>\n",
       "      <td>repository</td>\n",
       "      <td>True</td>\n",
       "      <td>Influence of damage on pore size distribution ...</td>\n",
       "      <td>2012-01-23</td>\n",
       "      <td>2012.0</td>\n",
       "      <td>journal-article</td>\n",
       "      <td>False</td>\n",
       "      <td>0363-9061</td>\n",
       "      <td>International Journal for Numerical and Analyt...</td>\n",
       "      <td>Wiley</td>\n",
       "    </tr>\n",
       "    <tr>\n",
       "      <th>1</th>\n",
       "      <td>10.1016/j.icarus.2019.07.011</td>\n",
       "      <td>publisher;repository</td>\n",
       "      <td>True</td>\n",
       "      <td>Global climate modeling of Saturn’s atmosphere...</td>\n",
       "      <td>2020-01-01</td>\n",
       "      <td>2020.0</td>\n",
       "      <td>journal-article</td>\n",
       "      <td>False</td>\n",
       "      <td>0019-1035</td>\n",
       "      <td>Icarus</td>\n",
       "      <td>Elsevier BV</td>\n",
       "    </tr>\n",
       "    <tr>\n",
       "      <th>2</th>\n",
       "      <td>10.1080/14693062.2012.699787</td>\n",
       "      <td>closed</td>\n",
       "      <td>False</td>\n",
       "      <td>Option value in low-carbon technology policies</td>\n",
       "      <td>2013-01-01</td>\n",
       "      <td>2013.0</td>\n",
       "      <td>journal-article</td>\n",
       "      <td>False</td>\n",
       "      <td>1469-3062,1752-7457</td>\n",
       "      <td>Climate Policy</td>\n",
       "      <td>Informa UK Limited</td>\n",
       "    </tr>\n",
       "  </tbody>\n",
       "</table>\n",
       "</div>"
      ],
      "text/plain": [
       "                            doi               oa_type  is_oa  \\\n",
       "0              10.1002/nag.1123            repository   True   \n",
       "1  10.1016/j.icarus.2019.07.011  publisher;repository   True   \n",
       "2  10.1080/14693062.2012.699787                closed  False   \n",
       "\n",
       "                                               title published_date  \\\n",
       "0  Influence of damage on pore size distribution ...     2012-01-23   \n",
       "1  Global climate modeling of Saturn’s atmosphere...     2020-01-01   \n",
       "2     Option value in low-carbon technology policies     2013-01-01   \n",
       "\n",
       "   published_year            genre journal_is_in_doaj        journal_issns  \\\n",
       "0          2012.0  journal-article              False            0363-9061   \n",
       "1          2020.0  journal-article              False            0019-1035   \n",
       "2          2013.0  journal-article              False  1469-3062,1752-7457   \n",
       "\n",
       "                                        journal_name           publisher  \n",
       "0  International Journal for Numerical and Analyt...               Wiley  \n",
       "1                                             Icarus         Elsevier BV  \n",
       "2                                     Climate Policy  Informa UK Limited  "
      ]
     },
     "execution_count": 7,
     "metadata": {},
     "output_type": "execute_result"
    }
   ],
   "source": [
    "df_oa_status = enrich_with_upw_status(df)\n",
    "df_oa_status"
   ]
  },
  {
   "cell_type": "code",
   "execution_count": null,
   "metadata": {},
   "outputs": [],
   "source": []
  }
 ],
 "metadata": {
  "kernelspec": {
   "display_name": "Python 3",
   "language": "python",
   "name": "python3"
  },
  "language_info": {
   "codemirror_mode": {
    "name": "ipython",
    "version": 3
   },
   "file_extension": ".py",
   "mimetype": "text/x-python",
   "name": "python",
   "nbconvert_exporter": "python",
   "pygments_lexer": "ipython3",
   "version": "3.6.7"
  }
 },
 "nbformat": 4,
 "nbformat_minor": 2
}
